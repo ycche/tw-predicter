{
 "cells": [
  {
   "cell_type": "code",
   "execution_count": 28,
   "id": "ba797419",
   "metadata": {},
   "outputs": [],
   "source": [
    "import pandas as pd\n",
    "import numpy as np\n",
    "from sklearn.model_selection import train_test_split, GridSearchCV\n",
    "from xgboost.sklearn import XGBClassifier\n",
    "from datasetprocessing import *\n",
    "from sklearn.feature_extraction.text import TfidfVectorizer, HashingVectorizer, CountVectorizer\n",
    "from sklearn.metrics import confusion_matrix\n",
    "from sklearn import metrics, svm\n",
    "from sklearn.naive_bayes import MultinomialNB\n",
    "from sklearn.linear_model import LogisticRegression\n",
    "import pickle\n",
    "import scipy as sp\n",
    "import seaborn as sns\n",
    "import matplotlib.pyplot as plt \n",
    "import collections"
   ]
  },
  {
   "cell_type": "code",
   "execution_count": 2,
   "id": "c50c8f6e",
   "metadata": {},
   "outputs": [
    {
     "data": {
      "text/html": [
       "<div>\n",
       "<style scoped>\n",
       "    .dataframe tbody tr th:only-of-type {\n",
       "        vertical-align: middle;\n",
       "    }\n",
       "\n",
       "    .dataframe tbody tr th {\n",
       "        vertical-align: top;\n",
       "    }\n",
       "\n",
       "    .dataframe thead th {\n",
       "        text-align: right;\n",
       "    }\n",
       "</style>\n",
       "<table border=\"1\" class=\"dataframe\">\n",
       "  <thead>\n",
       "    <tr style=\"text-align: right;\">\n",
       "      <th></th>\n",
       "      <th>Text</th>\n",
       "      <th>Label</th>\n",
       "    </tr>\n",
       "  </thead>\n",
       "  <tbody>\n",
       "    <tr>\n",
       "      <th>0</th>\n",
       "      <td>@BernieSanders Thank you Bernie! Together we c...</td>\n",
       "      <td>1</td>\n",
       "    </tr>\n",
       "    <tr>\n",
       "      <th>1</th>\n",
       "      <td>@BernieSanders Agreed https://t.co/0Nbg0NxraG</td>\n",
       "      <td>1</td>\n",
       "    </tr>\n",
       "    <tr>\n",
       "      <th>2</th>\n",
       "      <td>@BernieSanders We cordially invite you to sett...</td>\n",
       "      <td>1</td>\n",
       "    </tr>\n",
       "    <tr>\n",
       "      <th>3</th>\n",
       "      <td>@BernieSanders Plant trees 🌳\\nSave the bees 🐝\\...</td>\n",
       "      <td>1</td>\n",
       "    </tr>\n",
       "    <tr>\n",
       "      <th>4</th>\n",
       "      <td>@BernieSanders Thy them see\\nThis\\n\\nhttps://t...</td>\n",
       "      <td>1</td>\n",
       "    </tr>\n",
       "    <tr>\n",
       "      <th>...</th>\n",
       "      <td>...</td>\n",
       "      <td>...</td>\n",
       "    </tr>\n",
       "    <tr>\n",
       "      <th>2212</th>\n",
       "      <td>that was an asshole move and he fucking knows ...</td>\n",
       "      <td>4</td>\n",
       "    </tr>\n",
       "    <tr>\n",
       "      <th>2213</th>\n",
       "      <td>RT @anthony_burch: 66,000 Afghani soldiers die...</td>\n",
       "      <td>4</td>\n",
       "    </tr>\n",
       "    <tr>\n",
       "      <th>2214</th>\n",
       "      <td>On the bright side: that asshole's tweet remin...</td>\n",
       "      <td>4</td>\n",
       "    </tr>\n",
       "    <tr>\n",
       "      <th>2215</th>\n",
       "      <td>RT @Angry_Staffer: What an asshole. \\n\\nHe mig...</td>\n",
       "      <td>4</td>\n",
       "    </tr>\n",
       "    <tr>\n",
       "      <th>2216</th>\n",
       "      <td>RT @teslaqovsky: #ImpeachBiden pls\\n\\nThis guy...</td>\n",
       "      <td>4</td>\n",
       "    </tr>\n",
       "  </tbody>\n",
       "</table>\n",
       "<p>2217 rows × 2 columns</p>\n",
       "</div>"
      ],
      "text/plain": [
       "                                                   Text  Label\n",
       "0     @BernieSanders Thank you Bernie! Together we c...      1\n",
       "1         @BernieSanders Agreed https://t.co/0Nbg0NxraG      1\n",
       "2     @BernieSanders We cordially invite you to sett...      1\n",
       "3     @BernieSanders Plant trees 🌳\\nSave the bees 🐝\\...      1\n",
       "4     @BernieSanders Thy them see\\nThis\\n\\nhttps://t...      1\n",
       "...                                                 ...    ...\n",
       "2212  that was an asshole move and he fucking knows ...      4\n",
       "2213  RT @anthony_burch: 66,000 Afghani soldiers die...      4\n",
       "2214  On the bright side: that asshole's tweet remin...      4\n",
       "2215  RT @Angry_Staffer: What an asshole. \\n\\nHe mig...      4\n",
       "2216  RT @teslaqovsky: #ImpeachBiden pls\\n\\nThis guy...      4\n",
       "\n",
       "[2217 rows x 2 columns]"
      ]
     },
     "execution_count": 2,
     "metadata": {},
     "output_type": "execute_result"
    }
   ],
   "source": [
    "data = pd.read_csv(\"commentDataLabelled.csv\", encoding = \"UTF-8\")\n",
    "data"
   ]
  },
  {
   "cell_type": "markdown",
   "id": "6124105f",
   "metadata": {},
   "source": [
    "We first check if the dataset is balanced. During the first trials, I noticed that there were much more critical comments(3) and neutral comments(2) than the others. Thus, afterwards I had to look for more (1) and (4) data to add to the table. "
   ]
  },
  {
   "cell_type": "code",
   "execution_count": 3,
   "id": "b956ab40",
   "metadata": {},
   "outputs": [
    {
     "data": {
      "image/png": "[encoded data removed]",
      "text/plain": [
       "<Figure size 432x288 with 1 Axes>"
      ]
     },
     "metadata": {},
     "output_type": "display_data"
    }
   ],
   "source": [
    "values = data.Label.value_counts()\n",
    "sns.set_theme(style=\"whitegrid\")\n",
    "ax = sns.barplot(x = values.index, y = values)"
   ]
  },
  {
   "cell_type": "code",
   "execution_count": 4,
   "id": "0d8628a0",
   "metadata": {},
   "outputs": [
    {
     "data": {
      "text/plain": [
       "Text(0, 0.5, 'Number of ?')"
      ]
     },
     "execution_count": 4,
     "metadata": {},
     "output_type": "execute_result"
    },
    {
     "data": {
      "image/png": "[encoded data removed]",
      "text/plain": [
       "<Figure size 432x288 with 1 Axes>"
      ]
     },
     "metadata": {},
     "output_type": "display_data"
    }
   ],
   "source": [
    "results = collections.defaultdict(int)\n",
    "for i, row in data.iterrows():\n",
    "    if '?' in row['Text']:\n",
    "        results[row['Label']] += 1\n",
    "keys = [key for key in results]\n",
    "values = list(results.values())\n",
    "ax = sns.barplot(x = keys, y = values)\n",
    "plt.title('Strings containing ? in every label')\n",
    "plt.xlabel('Label')\n",
    "plt.ylabel('Number of ?')"
   ]
  },
  {
   "cell_type": "code",
   "execution_count": 5,
   "id": "020eb648",
   "metadata": {},
   "outputs": [
    {
     "data": {
      "text/plain": [
       "Text(0, 0.5, 'Number of !')"
      ]
     },
     "execution_count": 5,
     "metadata": {},
     "output_type": "execute_result"
    },
    {
     "data": {
      "image/png": "[encoded data removed]",
      "text/plain": [
       "<Figure size 432x288 with 1 Axes>"
      ]
     },
     "metadata": {},
     "output_type": "display_data"
    }
   ],
   "source": [
    "results = collections.defaultdict(int)\n",
    "for i, row in data.iterrows():\n",
    "    if '!' in row['Text']:\n",
    "        results[row['Label']] += 1\n",
    "keys = [key for key in results]\n",
    "values = list(results.values())\n",
    "ax = sns.barplot(x = keys, y = values)\n",
    "plt.title('Strings containing ? in every label')\n",
    "plt.xlabel('Label')\n",
    "plt.ylabel('Number of !')"
   ]
  },
  {
   "cell_type": "markdown",
   "id": "99e7b496",
   "metadata": {},
   "source": [
    "Using the process_text function in datasetprocessing.py, we can perform some preprocessing of the data text field. \n",
    "1. All @user patterns are removed from the text string. Ex. (@Angry_Staffer, @teslaqovsky)\n",
    "2. All links are removed from the text string. \n",
    "3. Miscellaneous strings that provide no value are removed. Ex. (&amp; , RT)\n",
    "4. All text becomes lower case with punctuation removed.\n",
    "5. Text is lemmatized using the textblob library."
   ]
  },
  {
   "cell_type": "code",
   "execution_count": 6,
   "id": "6fa160f2",
   "metadata": {},
   "outputs": [],
   "source": [
    "data = process_dataset(data)"
   ]
  },
  {
   "cell_type": "markdown",
   "id": "7102f400",
   "metadata": {},
   "source": [
    "Seeing that '?' appears more commonly in label 3 and 4, I created a new feature that looks at if the text contains a question mark. The same thing is done for exclamation marks. I then split the label from the dataset to prepare for training."
   ]
  },
  {
   "cell_type": "code",
   "execution_count": 7,
   "id": "463fca4a",
   "metadata": {},
   "outputs": [],
   "source": [
    "data['Label'] = data['Label'] - 1\n",
    "data['Text'] = data.apply(lambda row : process_text(row['Text']),axis = 1)\n",
    "labels = data.Label\n",
    "data = data.drop(columns=[\"Label\"])"
   ]
  },
  {
   "cell_type": "markdown",
   "id": "262faabf",
   "metadata": {},
   "source": [
    "We will use a few baseline classifiers to make predictions. The data is split into training and test datasets and tokenized with the TfidfVectorizer."
   ]
  },
  {
   "cell_type": "code",
   "execution_count": 8,
   "id": "4aeaf728",
   "metadata": {},
   "outputs": [],
   "source": [
    "classifiers = [XGBClassifier(use_label_encoder=False,eval_metric='logloss'), svm.SVC(kernel='rbf',C=100), MultinomialNB(alpha=0.1), LogisticRegression(penalty = 'l2', C=0.1)]\n",
    "results = collections.defaultdict(float)\n"
   ]
  },
  {
   "cell_type": "code",
   "execution_count": 15,
   "id": "f37c5530",
   "metadata": {},
   "outputs": [],
   "source": [
    "def train(classifiers, output = False):\n",
    "    x_train,x_test,y_train,y_test = train_test_split(data[['Text','Question','Exclamation','Upper Case']], labels, test_size = 0.2)\n",
    "    tfidf_vectorizer = TfidfVectorizer(stop_words=\"english\",max_df = 0.5)\n",
    "    tfidf_train = tfidf_vectorizer.fit_transform(x_train['Text'])\n",
    "    tfidf_test = tfidf_vectorizer.transform(x_test['Text'])\n",
    "    train_1 = np.swapaxes([x_train['Question'].to_numpy()],0,1)\n",
    "    train_2 = np.swapaxes([x_train['Upper Case'].to_numpy()],0,1)\n",
    "    train_3 = np.swapaxes([x_train['Exclamation'].to_numpy()],0,1)\n",
    "    test_1 = np.swapaxes([x_test['Question'].to_numpy()],0,1)\n",
    "    test_2 = np.swapaxes([x_test['Upper Case'].to_numpy()],0,1)\n",
    "    test_3 = np.swapaxes([x_test['Exclamation'].to_numpy()],0,1)\n",
    "\n",
    "    tfidf_train = sp.sparse.hstack((tfidf_train,train_1, train_2,train_3))\n",
    "    tfidf_test = sp.sparse.hstack((tfidf_test,test_1, test_2,test_3))\n",
    "\n",
    "\n",
    "    for classifier in classifiers:\n",
    "        clf, score = benchmark(classifier,tfidf_train,tfidf_test,y_train,y_test, x_test, output)\n",
    "        results[clf] += score"
   ]
  },
  {
   "cell_type": "code",
   "execution_count": 16,
   "id": "1517e09d",
   "metadata": {},
   "outputs": [],
   "source": [
    "def benchmark(clf, x_train, x_test, y_train, y_test, test,display = False):\n",
    "    clf.fit(x_train, y_train)\n",
    "    pred = clf.predict(x_test)\n",
    "    \n",
    "    score = metrics.accuracy_score(y_test, pred)\n",
    "    if display:\n",
    "        confusion_mtx(y_test, pred)\n",
    "        for input, prediction, label in zip(test['Text'], pred, y_test):\n",
    "            if prediction != label:\n",
    "                print(input, 'has been classified as ', prediction, 'and should be ', label) \n",
    "\n",
    "    clf_descr = str(clf).split('(')[0]\n",
    "    return clf_descr, score"
   ]
  },
  {
   "cell_type": "code",
   "execution_count": 19,
   "id": "9295ff65",
   "metadata": {},
   "outputs": [],
   "source": [
    "def confusion_mtx(actual, pred):\n",
    "    cm = confusion_matrix(actual, pred)\n",
    "    cm_df = pd.DataFrame(cm, index = ['0','1','2','3'],columns = ['0','1','2','3'])\n",
    "    plt.figure(figsize=(5,4))\n",
    "    sns.heatmap(cm_df, annot=True)\n",
    "    plt.title('Confusion Matrix')\n",
    "    plt.ylabel('Actal Values')\n",
    "    plt.xlabel('Predicted Values')\n",
    "    plt.savefig('confusion_matrix.png')"
   ]
  },
  {
   "cell_type": "code",
   "execution_count": 21,
   "id": "cf1037b5",
   "metadata": {},
   "outputs": [
    {
     "data": {
      "text/plain": [
       "defaultdict(float,\n",
       "            {'XGBClassifier': 0.571283783783784,\n",
       "             'SVC': 0.5680180180180181,\n",
       "             'MultinomialNB': 0.5547297297297296,\n",
       "             'LogisticRegression': 0.4658783783783784})"
      ]
     },
     "execution_count": 21,
     "metadata": {},
     "output_type": "execute_result"
    }
   ],
   "source": [
    "n_trials = 20\n",
    "results = collections.defaultdict(float)\n",
    "for i in range(n_trials):\n",
    "    train(classifiers)\n",
    "for key in results:\n",
    "    results[key] = results[key] / n_trials\n",
    "results\n"
   ]
  },
  {
   "cell_type": "markdown",
   "id": "4c8dee02",
   "metadata": {},
   "source": [
    "Using the XGB Classifier, I created a confusion matrix as well as a list of all the incorrectly predicted entries."
   ]
  },
  {
   "cell_type": "code",
   "execution_count": 20,
   "id": "0d75349c",
   "metadata": {},
   "outputs": [
    {
     "name": "stdout",
     "output_type": "stream",
     "text": [
      "endproxywar stoptaliban stopterrorism saveafghanistan sanctionsonpakistan pakproxywarafg securitycouncil shutdowndohaoffice joebiden vladimir_putin antonioguterres khalilzad_is_traitor attention_americans has been classified as  1 and should be  3\n",
      "cool now do trump has been classified as  1 and should be  2\n",
      "student justice league will not stop helping vulnerable incarcerated people during this global health emergency learn more at http t.co/qhmohw69fq theinnocencefiles secondchancemonth decarceratenow freeouryouth endlifeimprisonment has been classified as  1 and should be  2\n",
      "oh and in case we have n't said it lately you 're all fucking rock star releasetheayercut has been classified as  3 and should be  0\n",
      "how many do you have has been classified as  2 and should be  1\n",
      "gave conservative the finger has been classified as  0 and should be  1\n",
      " has been classified as  1 and should be  3\n",
      "want to play for your team has been classified as  1 and should be  0\n",
      "nothing the generation in power will never accept change to their lifestyle it ’ s too late for their grandchild has been classified as  0 and should be  1\n",
      "show topic has been classified as  2 and should be  1\n",
      "it 's insane how hard these social medium platform are working to silence ppl between removing them from the platform the ridiculous fact check and all the ai bot response has been classified as  2 and should be  1\n",
      "urgent nacy pelosi is worth 200 million dollar call to all lawyer prosecute nancy pelosi for corruption inside trading and crime against humanity do what is right stand for you country stop corruption be hero to your family and fellow citizen has been classified as  2 and should be  3\n",
      "donald trump wa accused of sexual assaulting 25 woman donald trump is sicker than cuomo any father that lust for his on daughter is sick perverted bastard trump said he would love to have sex with ivanka if he wa n't her father it doe n't get any sicker than that has been classified as  1 and should be  2\n",
      "win real ring lemick has been classified as  2 and should be  1\n",
      "you sacrificed has been classified as  0 and should be  1\n",
      "funny how you didn ’ t have problem with the billion wasted on stupid wall tax cut for the rich … has been classified as  2 and should be  3\n",
      "why are you going off grid also haven ’ t seen you for while on msnbc or bill maher please hang in there a… has been classified as  2 and should be  0\n",
      "gun drug ’ s mix dump into the hood.why citizen ’ s look by daniel glosky amazon e-book the hideous plan people need food and help diabolical gov need and more addict defend the child has been classified as  1 and should be  2\n",
      "california reject the recall september 14 👋😎💙 has been classified as  0 and should be  2\n",
      "nut totally nut has been classified as  0 and should be  3\n",
      "but our entire economy is based on luck and becoming one of the lucky few 🤷‍♂️🐸☕ has been classified as  1 and should be  2\n",
      "do n't let them continue2cause chaos from preventing doing your job we sent do 2022 is next year already election again we need an arsenal of accomplishment in congress has been classified as  2 and should be  1\n",
      "hope some time that people on social security get rid of insurance co that price the 20 percent that medicare do not pay thur the roof it crime to charge these price for only 20 percent.seniors need help has been classified as  2 and should be  1\n",
      "hypocrite has been classified as  3 and should be  2\n",
      "we are live on kickstarter now our campaign link http t.co/luq32vqrck or search genie go on 2nd campaign reach our campaign thank you has been classified as  0 and should be  1\n",
      "move mitch get out the way get out the way mitch get out the way move mitch get out the way get out the way mitch get out the way ludacris song with one name change has been classified as  0 and should be  2\n",
      "🤮🤮🤮 has been classified as  1 and should be  2\n",
      "mask are for the lowly mass has been classified as  1 and should be  2\n",
      "it wasn ’ t merely trump ’ s incompetence failure it wa cruel inhumane deadly republican pursued nursing home deregulation during the pandemic homicidal greed meet crisis capitalism source nbc news has been classified as  3 and should be  2\n",
      "elizabeth please put pressure on the president to stop pipeline has been classified as  3 and should be  2\n",
      "serious question do we need new agency or can we empower the to tackle our response to climate change smart folk with experience in resource management who are funded through the military budget seem like the one to step in has been classified as  2 and should be  1\n",
      "why do we still have this slanderous rhetoric against trump this is another attempt to take down trump with ww2 nazi type rhetoric shame on the nazi censorship press again and again for their disgusting one world order agenda there wa no comparison bird look different has been classified as  3 and should be  2\n",
      "introducing ethereum 101 • the backstory • the vision • term you must know • use case let 's dive in http t.c… has been classified as  1 and should be  0\n",
      "hell yeah has been classified as  1 and should be  0\n",
      "doe anyone care how much warren stole from the native for lying she wa native american for college has been classified as  3 and should be  2\n",
      "we finally have big has been classified as  3 and should be  0\n",
      "but how will we pay for 3.5 trillion by making the rich corporation pay their fair share in tax thank you has been classified as  2 and should be  0\n",
      "the new supersedes your old sponge/when it smell like it come from the rainforest junge/inferior past decision hell yaassssss biden supercedes the unhunged wordpizzafordessert spelling contextclues connotation vocabularybuildingwithari has been classified as  3 and should be  1\n",
      "remember flounder in animal house that 's me right now oh boy oh boy oh boy has been classified as  3 and should be  1\n",
      "this is everyone 's call to arm has been classified as  1 and should be  0\n",
      "nobody wa a reckless a you when you republican passed tax break for the rich that ’ s why we are deep in debt all while our country is falling apart and we are beginning to look like third world country step aside with your old thought it time for you to go has been classified as  2 and should be  3\n",
      "any tax you impose is paid by everyone corporation do n't pay tax but they are tax collector for the government and pas those cost on to u the rich will adjust how and where they make money to minimize tax the bill wo n't ever be paid for by those tax has been classified as  2 and should be  1\n",
      "health expert our government is importing covid positive immigrant for vote that is disgusting has been classified as  3 and should be  2\n",
      "let 's get this trending retweet and include the below missouri republican senator josh hawley an outspoken critic of coastal elite is using his sister 's house in missouri a his voter address hawleylivesinvirginia has been classified as  1 and should be  2\n",
      "resign you were ok with the trillion deficit incurred under trump what hypocrisy has been classified as  3 and should be  2\n",
      "better do it while the democrat have control of house and senate or there will be whole bunch of disappointed voter who may not be so happy with the current administration… action matter has been classified as  0 and should be  2\n",
      "farmer need u punjab need u please share link so it can reach on ground level 🙏🏽 has been classified as  2 and should be  1\n",
      "but they do pay more in tax than the bottom 50 of the country has been classified as  2 and should be  1\n",
      "hey just want to say hasnt accepted the 1v1 lee sin mirror match up yet for free chipotle bestleesinlowelona leesininfluencer has been classified as  2 and should be  1\n",
      "it just show you what total b these award have become has been classified as  2 and should be  3\n",
      "just asswipe has been classified as  2 and should be  3\n",
      "in germany they pay the mother to stay home until school they know the importance of mother and child has been classified as  2 and should be  0\n",
      "having direct stake in it wa the exact argument used to restrict the vote to people who owned property has been classified as  2 and should be  1\n",
      "this my son play on espn has been classified as  1 and should be  0\n",
      "do you realize that about 70 of minority in new york are not vaccinated 70 fact that is not republican you uneducated twit you should get your head out of the democratic butthole and figure out what truth is has been classified as  2 and should be  3\n",
      "39 of the bottom dont wan na do shi7 in life lazy po people has been classified as  3 and should be  2\n",
      "this phoney can ts3ke the long road home or maybe take her to train station in wyoming via yellowstone has been classified as  1 and should be  2\n",
      "our mission is to ensure they understand show up to vote by all mean available we all have to h… has been classified as  2 and should be  1\n",
      "discourse is now forbidden the government us private company to take your freedom away and ultimately democracy although democracy wa probably always mostly an illusion has been classified as  1 and should be  2\n",
      "hmm doe n't bode well for u doe it has been classified as  2 and should be  1\n",
      "sourcedotcom cnn spy report kaitlan collins said omg did see cleveland clinic decision this is one of the premier hospital in the world they said those who had covid do n't need vaccine they are the safest we can not let this go public if this is true has been classified as  2 and should be  3\n",
      "nothing is ever enough for you put the measure you think the people want on the next ballot you 'll find they do n't pas has been classified as  1 and should be  2\n",
      "and tax return are automatically audited every year at least until trump not sure if by law or regulation has been classified as  2 and should be  1\n",
      "we have heard nothing but complaint from you about helping our country get back on track a world power you have no idea that aren ’ t already addressed by democrat get over yourself has been classified as  0 and should be  3\n",
      "1300 giveaway in eth to someone that follows me retweet this bsc binance eth ethereum bombgiveaway has been classified as  0 and should be  1\n",
      "b has been classified as  1 and should be  3\n",
      "covid is endemic limited data pattern seem to point to roughly month cycle vaccine can limit symptom but it 's still transmissible and will continue to mutate irrespective of vaccination status has been classified as  2 and should be  1\n",
      "no democrat will decect to your side of the fence they will not turn on each other you can argue a much a you want we stick together has been classified as  1 and should be  3\n",
      "hey college drop out judging other people is projection of yourself we already know you veered off and… has been classified as  1 and should be  2\n",
      "support tucker support or an support hungary support europe has been classified as  1 and should be  0\n",
      "get this man signed redemption season has been classified as  0 and should be  1\n",
      "and you are destruction has been classified as  1 and should be  3\n",
      "please watch please see what digital crypto currency can do and it 's benefit to not entrap with needle and harmful regulation it offer to bank the unbanked and give identity infrastructure to those in developing country please watch has been classified as  2 and should be  1\n",
      "please read help my has been classified as  2 and should be  1\n",
      "column here 's why the gop smear everything it doe n't like a socialism has been classified as  2 and should be  3\n",
      "why do we pay tax so people can become senator to go to college to fake they are native american shame on the tax payer money spent has been classified as  3 and should be  2\n",
      "hey sean am watching the midday fox show and all have to say is you have to keep jacqui heinrich in the studio such gorgeous girl has been classified as  1 and should be  0\n",
      "fantastic has been classified as  1 and should be  0\n",
      "i 'm pleased to announce that senator warner toomey sinema lummis have reached an agreement on an amendment to cl… has been classified as  2 and should be  0\n",
      "how to punish president that ha violated his oath of office one can only wring his neck once which would account for most crime but not for pain and suffering if he is half lard and half fried chicken just tie him out in the sun to crisp well done has been classified as  2 and should be  3\n",
      "take him out of hospital and put him in house of worship has been classified as  0 and should be  2\n",
      "👏we 're looking for ambitious philippine crypto enthusiast to join u for better crypto future you can not miss that… has been classified as  2 and should be  0\n",
      "stop being stupidly ignorant ask certified financial planner cfp how detrimental high inflation rate is to your retirement nest egg on top of higher tax at least know how you 're getting screwed has been classified as  2 and should be  3\n",
      "you knew damn well wa snake before you took me in they knew knew k… has been classified as  1 and should be  3\n",
      "just some 17 year old kid from stow trying to be the youngest ever to win pro woman ’ s national tournament has been classified as  0 and should be  1\n",
      "guess brain is luxury these day delta doesn ’ t care about stupidity has been classified as  2 and should be  1\n",
      "all because some as suggested it they ’ ll use medication meant for an as instead of doctor and science approved medication has been classified as  2 and should be  3\n",
      "governor ron diesantis rondiesantis has been classified as  1 and should be  0\n",
      "respectfully it appears we are not we ’ re going to need to ring the alarm bell lot more than this has been classified as  2 and should be  1\n",
      "what doe that mean becasue you the have been doing that since trump has been classified as  2 and should be  1\n",
      "she ’ s next get her out of office has been classified as  1 and should be  3\n",
      "you are disgrace to every republican in the usa you are not for american only your own wallet why don ’ t you stupid polititicians ever balance the u budget why continue to have usa in trillion of debt stupid has been classified as  2 and should be  3\n",
      "thanks to her and her big mouth she gave to sport bad name we ’ re american respect u or quit the team separate your point of view from sport get over yourself has been classified as  0 and should be  3\n",
      "stay away from people that complain about everything that shit is contagious has been classified as  1 and should be  3\n",
      "one down dozen to go has been classified as  0 and should be  1\n",
      "failure when price keep going up has been classified as  1 and should be  2\n",
      "and if this is a serious a you all keep saying we need to be bombing the shit out of china ’ s polluting factory has been classified as  2 and should be  3\n",
      "know need vaca but split it up your hour wa disaster with velchi loud and super hyperbolic rant had to watch coumo until his brother situation then hannity were gone too long might watch olympics on demand this week you joy and brian gone wa an awful choice has been classified as  2 and should be  3\n",
      "better start pulling his best trick out of his hat or civil war is upon u has been classified as  0 and should be  1\n",
      "on your watch in year 6.7 trillion added to the deficit and 500,000 american died while you voted to allow the insurectionist leader to go free to continue to defy the constitution and the oath you both took has been classified as  3 and should be  2\n",
      "knock off the slow walking u towards socialism stop compromising with the dems you voted for their “ infrastructure ” plan fight or get out has been classified as  2 and should be  3\n",
      "also universal health care no half measure like the aca aca is misnomer anyway since those plan are not affordable has been classified as  3 and should be  1\n",
      "dropping granny and spanking panty 🤷‍♂️ has been classified as  1 and should be  3\n",
      "hi titan is now available at on the ground level of eastside south nutwood and state college parking structure parkmobile provides contactless and convenient way to pay for hourly parking on campus more info can be found here http t.co/kgxblynfgq has been classified as  1 and should be  0\n",
      "this is an insult to injury how dare this so-called human right agency to accuse the ethiopian government on this issue of rape knowing that it wa tplf that engineered this crime to invite external power intervention in ethiopian affair fakeamnestyreport has been classified as  2 and should be  3\n",
      "if that song you played is from clb is recycling bar because those are some 4pm in calabasas bar has been classified as  1 and should be  0\n",
      "so do has been classified as  1 and should be  0\n",
      "you should be ashamed of yourself you did this when donald trump wa in there and you made it so that democrat could get nothing you only looked out for republican so suck it up and then make sure you retire because you 're useless you 're not leader has been classified as  3 and should be  2\n",
      "building back better what pathetic joke has been classified as  1 and should be  3\n",
      "contorts every healthcare dilemma into some paranoid nonsense that the government is trying to infringe liberty and freedom he only see healthcare issue a platform for political grandstanding for vote has been classified as  1 and should be  2\n"
     ]
    },
    {
     "name": "stdout",
     "output_type": "stream",
     "text": [
      "🇨🇦 here always thought it ironic that america say it ’ s big on family value when they seem to do so little to… has been classified as  3 and should be  2\n",
      "glimmer of hope neighbor long time voted trump 2016 but not 2020 is appalled by insurrection outraged over response when fundraiser called she let them have it said no support till they get their house in order voteblue22 vote has been classified as  2 and should be  0\n",
      "beyond grateful to be back and with you 🙏🏽 has been classified as  1 and should be  0\n",
      "nobody need you go back to flying on private jet has been classified as  2 and should be  3\n",
      "this is what fauci said in march has been classified as  0 and should be  2\n",
      "bitcoin is not about country corporation bank or big tech it 's about regular people sending receiving money and doin… has been classified as  2 and should be  1\n",
      "talk to your good friend biden about stopping all the drilling pipeline and fracking start there today has been classified as  3 and should be  2\n",
      "too fucking late make it august15 has been classified as  3 and should be  2\n",
      "omg the freaking gop can screw up one car funeral omg mcconnell and the other rinos in the senate just sold u out no more money for the rnc none get the rinos out has been classified as  2 and should be  3\n",
      "how about leaving better kid for our planet has been classified as  1 and should be  3\n",
      "another win just in 107 biafra activist detained in niger state finally freed according to carol monday ipob ha… has been classified as  1 and should be  0\n",
      "yeah home depot way to go safer place to shop this type of action is must has been classified as  2 and should be  0\n",
      "just like fossil fuel your outdated and going to be replaced with better more efficient model that do not destroy our planet government thanks for the memory sincerely united state of america has been classified as  0 and should be  3\n",
      "please add stimulus check for american in this 3.5 package american are still in desperate need of this thank has been classified as  0 and should be  2\n",
      "getting rid of sugar/processed food/sugarettes/vaping/alcohol and cell phone dependency would be infrastructure for productive prosperous life for our kid has been classified as  3 and should be  2\n",
      "i 'm pretty sure most immune deficient individual can get the vaccine am immune deficient heart transplant and am fully vaccinated has been classified as  2 and should be  1\n",
      "last night 's moon 10 august 2021 stormhour thephotohour moonhour has been classified as  0 and should be  1\n",
      "new pool new moon the lzpool is bringing huge lzp reward to the early adopter you ’ ll need lz for farming staking… has been classified as  3 and should be  1\n",
      "you fraud you never discussed the bad thing in this infrastructure bill or how the stupid republican that voted for it republican have no leverage to stop the next budget bill has been classified as  3 and should be  2\n",
      "you can now get nike just do it sneaker at discounted price ✅discounted from ksh 2800 ✅ to ksh 2500 ✅call or whatsa… has been classified as  2 and should be  1\n",
      "you 're right has been classified as  2 and should be  0\n",
      "the loss of your unique voice and insight if that is indeed what this is could be the final daggar now is no time for any serious voice to step aside there 's no 7th inning break when it come to defending democracy come back soon and loud and clear you 're needed has been classified as  0 and should be  2\n",
      "please don ’ t give up the fight addressing student loan my daughter ha worked full time since she wa 17 is in the process of doing her dissertation for her doctorate so she can further her work with autistic kid she owes 125,000 in student loan it ’ s crushing her has been classified as  2 and should be  1\n",
      "god is punishing cal they deserve it has been classified as  0 and should be  2\n",
      "send them all to alaska that is changing by the day has been classified as  2 and should be  3\n",
      "lol has been classified as  1 and should be  0\n",
      "you are total cluster omg gop senator missed the vote so there go another 5t in communist crap has been classified as  2 and should be  3\n",
      "my fud worked managed to buy cheap pengus to the moon has been classified as  0 and should be  2\n",
      "bernie a mr big would say “ absofuckinglutely ” saving the child from tyranny and death is my prime motivation for staying political active ” bluewave2022 indicttrumpnow has been classified as  2 and should be  1\n",
      "you 're such doofus has been classified as  1 and should be  3\n",
      "why go off the grid at this crucial juncture you are credible much needed voice your leadership i… has been classified as  2 and should be  0\n",
      "🇭🇺🇭🇺🇭🇺 has been classified as  1 and should be  0\n",
      "the cryptocurrency industry leverage network of shady business connection bought influencers and pay-for-play medium ou… has been classified as  1 and should be  2\n",
      "please see what digital crypto currency can do and it 's benefit to not entrap with needle and harmful re… has been classified as  1 and should be  2\n",
      "if only you could have been able to tweet this in april 2020 has been classified as  2 and should be  1\n",
      "with the saxophone solo 🔥🔥🔥🔥 has been classified as  1 and should be  0\n",
      "hey ari my dad is extremely excited to share his choice he ha no twitter but wanted to get in on the fun thebeat let him know what you think ☺️ has been classified as  2 and should be  0\n",
      "bannon paved the way or did you forget when he left the white house did he not take world tour watch the beat with ari melber highlight august 6th msnbc http t.co/fiqyfh35mv via has been classified as  1 and should be  2\n",
      "🏀🙏🏻 has been classified as  1 and should be  0\n",
      "turd has been classified as  1 and should be  3\n",
      "men of the world this is how should treat your girlfriend has been classified as  1 and should be  0\n",
      "you ’ re quitter has been classified as  0 and should be  2\n",
      "thanks to the burmese in japan for showing solidarity with our people.we sincerely appreciate this🙏🏻 sign the petition for nug aug18coup whatshappeninginmyanmar acceptnug_rejectmilitary has been classified as  1 and should be  0\n",
      "your third grad education is showing try fox sock now shawn has been classified as  1 and should be  3\n",
      " has been classified as  1 and should be  0\n",
      "a far a covid vaccine it ’ s logical that trump only said yes to nih recommendation something anyone would do dr fauci decided to develop the moderna vaccine on 1/10/2020 after seeing nyc being overrun do trump supporter think jared called the nih has been classified as  3 and should be  2\n",
      "if amy mcgrarth doesn ’ t rise to the top of politics in washington everyone in kentucky loses.… has been classified as  1 and should be  2\n",
      "wiping out generation 🤯 has been classified as  0 and should be  1\n",
      "how can anyone look at california fire burning half million acre and see climate change is real has been classified as  2 and should be  1\n",
      "florida governor ron desantis appears willing to sacrifice the health of florida ’ s child in pursuit of his presidential ambition read my blog has been classified as  1 and should be  2\n",
      "day just under 1000 like what doe that tell you has been classified as  2 and should be  3\n",
      "you are clown has been classified as  1 and should be  3\n",
      "eat the rich has been classified as  1 and should be  2\n",
      "yes she is probably vaccinated among group of family who are also all vaccinated and tested and in group of le than 50 ahh but those fact would n't fit into the conservative narrative has been classified as  1 and should be  2\n",
      "just saw piece on florida masking in alberta we stopped contact tracing jul 29 and aug 16 case dont need to isolate aug 31 have to go to er or gp for test only if severe symptom no masking since 7/1 http t.co/dha7mvkxgd via has been classified as  1 and should be  2\n",
      "you 're advocating for social welfare state which would be bad for america has been classified as  3 and should be  2\n",
      "bow down old turtle face bitch has been classified as  2 and should be  3\n",
      "you ’ re going to let them walk all over you because you got your judge weak af has been classified as  1 and should be  3\n",
      "msnbc 's bleeping out the jan police officer 's testimony and the word is just plain wrong when you are quoting someone it is journalistically ok to not bleep out an invective play/say the damned word wake people the hell up has been classified as  2 and should be  3\n",
      "rule for thee not for me seems to be every politician ’ s motto has been classified as  1 and should be  2\n",
      "twitter and facebook are private company however they are also relied on by public for social medium communication if these monopoly unfairly censor information congress can pas law to regulate has been classified as  2 and should be  1\n",
      "like this cause it ’ s day in ghana most miss all this tweet from bos has been classified as  2 and should be  0\n",
      "first let 's get this bill passed in the house tell your fellow house progressive to stop playing game or we will wind up with neither bill has been classified as  1 and should be  2\n",
      "yes they do they pay more than their fair share you just want to steal from them to use for whatever ridiculous wasteful program you can devise that ’ ll help people keep you in power because of the free goody has been classified as  3 and should be  2\n",
      "said by member of the who push socialism but ha grown fat from socialism has been classified as  1 and should be  3\n",
      "the fact that the moment come back have to go sign paperwork for my tesla im beyond fucking excited has been classified as  3 and should be  0\n",
      "such joke do they think the american people are so dumb we are not 😇☝ has been classified as  2 and should be  3\n",
      "there is nothing in this bill for african american consequence african american sitout2022midterms it is time to make democrat accountable for lying to our community georgefloyd has been classified as  2 and should be  3\n",
      "pitiful just pitiful has been classified as  1 and should be  2\n",
      "“ but but… you ’ re wearing lederhosen ” has been classified as  0 and should be  1\n",
      "vtho pumped 42.281 1d current price is 0.010304 welcome to binance http t.co/iuqt7tru0t bitcoin vtho has been classified as  1 and should be  0\n",
      "19 of you gop idiot vote for the 1.2 trillion infrastructure bill i 'll work to see primaried in 2026 quisling has been classified as  3 and should be  2\n",
      "some democracy you are zionist f 's has been classified as  1 and should be  2\n",
      "paid maternity leave exists for all working woman in the… world 👍 has been classified as  0 and should be  1\n",
      "locked in please do not spend dime on this we will adapt has been classified as  0 and should be  2\n",
      "“ we have serious problem to solve and we need serious people to solve them ” about the minute mark “ the american president ” has been classified as  2 and should be  1\n",
      "are you ready for tipcoin to change the gambling and crypto game be sure to join our telegram group and follo… has been classified as  0 and should be  1\n",
      "ohhhh no it like living in nazi germany all over again has been classified as  1 and should be  2\n",
      "america offer has been classified as  2 and should be  1\n",
      "feel like we all agree she should keep her mask on for everyone has been classified as  0 and should be  3\n",
      "your too old to know what american what out of you your stuck in 50 your just to old has been classified as  2 and should be  3\n",
      "poggers has been classified as  2 and should be  0\n",
      "come north we get year.🇨🇦 has been classified as  2 and should be  0\n",
      "scary has been classified as  2 and should be  1\n",
      "blessed to receive an offer from penn state has been classified as  1 and should be  0\n",
      "what joke and now my respect for winning an emmy just went down the crapper has been classified as  0 and should be  2\n",
      "ohh so thing are just going up 🤓 bitcoin crypto has been classified as  1 and should be  0\n"
     ]
    },
    {
     "data": {
      "image/png": "[encoded data removed]",
      "text/plain": [
       "<Figure size 360x288 with 2 Axes>"
      ]
     },
     "metadata": {},
     "output_type": "display_data"
    }
   ],
   "source": [
    "train([XGBClassifier(use_label_encoder=False,eval_metric='logloss')], output = True)"
   ]
  },
  {
   "cell_type": "markdown",
   "id": "b647dd8d",
   "metadata": {},
   "source": [
    "From the confusion matrix, label 0 seems to be the most accurately predicted. The right values are predicted most of the time but there is a lot of confusion especially with labels 1 and 2. For example, \"america offer\" has been classified as 2(Critical) vs the ground truth of 1(Neutral). I think that this is due to many critical(2) tweets having the word america in it. "
   ]
  },
  {
   "cell_type": "markdown",
   "id": "8289266e",
   "metadata": {},
   "source": [
    "One idea is to try n-grams of words. For example, considering the bi-grams of the sentence \"feel like we\" we have: \"feel\",\"like\",\"we\",\"feel like\",\"like we\". This can hopefully capture more context of the sentence. "
   ]
  },
  {
   "cell_type": "code",
   "execution_count": 23,
   "id": "94d59bdc",
   "metadata": {},
   "outputs": [],
   "source": [
    "def train(classifiers, output = False):\n",
    "    x_train,x_test,y_train,y_test = train_test_split(data[['Text','Question','Exclamation','Upper Case']], labels, test_size = 0.2)\n",
    "    tfidf_vectorizer = TfidfVectorizer(stop_words=\"english\",max_df = 0.5, ngram_range=(1,2))\n",
    "    tfidf_train = tfidf_vectorizer.fit_transform(x_train['Text'])\n",
    "    tfidf_test = tfidf_vectorizer.transform(x_test['Text'])\n",
    "    train_1 = np.swapaxes([x_train['Question'].to_numpy()],0,1)\n",
    "    train_2 = np.swapaxes([x_train['Upper Case'].to_numpy()],0,1)\n",
    "    train_3 = np.swapaxes([x_train['Exclamation'].to_numpy()],0,1)\n",
    "    test_1 = np.swapaxes([x_test['Question'].to_numpy()],0,1)\n",
    "    test_2 = np.swapaxes([x_test['Upper Case'].to_numpy()],0,1)\n",
    "    test_3 = np.swapaxes([x_test['Exclamation'].to_numpy()],0,1)\n",
    "\n",
    "    tfidf_train = sp.sparse.hstack((tfidf_train,train_1, train_2,train_3))\n",
    "    tfidf_test = sp.sparse.hstack((tfidf_test,test_1, test_2,test_3))\n",
    "\n",
    "\n",
    "    for classifier in classifiers:\n",
    "        clf, score = benchmark(classifier,tfidf_train,tfidf_test,y_train,y_test, x_test, output)\n",
    "        results[clf] += score"
   ]
  },
  {
   "cell_type": "code",
   "execution_count": 24,
   "id": "a0b7ac82",
   "metadata": {},
   "outputs": [
    {
     "data": {
      "text/plain": [
       "defaultdict(float,\n",
       "            {'XGBClassifier': 0.5684684684684684,\n",
       "             'SVC': 0.5594594594594594,\n",
       "             'MultinomialNB': 0.5543918918918919,\n",
       "             'LogisticRegression': 0.436036036036036})"
      ]
     },
     "execution_count": 24,
     "metadata": {},
     "output_type": "execute_result"
    }
   ],
   "source": [
    "n_trials = 20\n",
    "results = collections.defaultdict(float)\n",
    "for i in range(n_trials):\n",
    "    train(classifiers)\n",
    "for key in results:\n",
    "    results[key] = results[key] / n_trials\n",
    "results\n"
   ]
  },
  {
   "cell_type": "markdown",
   "id": "9fd10983",
   "metadata": {},
   "source": [
    "Unfortunately, bi-grams did not provide better results. I think this is due to there being not enough data. Specific patterns of words do not come up frequently enough for the machine to make meaningful classifications. "
   ]
  },
  {
   "cell_type": "markdown",
   "id": "5a98ca62",
   "metadata": {},
   "source": [
    "As well, we drop logistic regression from the baseline as it consistenly provides worse results. We will try using GridSearch to find the best hyperparameters for these models. "
   ]
  },
  {
   "cell_type": "code",
   "execution_count": 37,
   "id": "a2222e30",
   "metadata": {},
   "outputs": [],
   "source": [
    "tfidf_vectorizer = TfidfVectorizer(stop_words=\"english\",max_df = 0.5)\n",
    "tfidf_data = tfidf_vectorizer.fit_transform(data['Text'])\n",
    "train_1 = np.swapaxes([data['Question'].to_numpy()],0,1)\n",
    "train_2 = np.swapaxes([data['Upper Case'].to_numpy()],0,1)\n",
    "train_3 = np.swapaxes([data['Exclamation'].to_numpy()],0,1)\n",
    "tfidf_data = sp.sparse.hstack((tfidf_data,train_1, train_2,train_3))\n",
    "\n"
   ]
  },
  {
   "cell_type": "code",
   "execution_count": 38,
   "id": "53999cf1",
   "metadata": {},
   "outputs": [
    {
     "name": "stdout",
     "output_type": "stream",
     "text": [
      "Accuracy: 0.525 (+/-0.079) for params: {'C': 1, 'kernel': 'linear'}\n",
      "Accuracy: 0.504 (+/-0.069) for params: {'C': 10, 'kernel': 'linear'}\n",
      "Accuracy: 0.465 (+/-0.066) for params: {'C': 50, 'kernel': 'linear'}\n",
      "Accuracy: 0.455 (+/-0.069) for params: {'C': 100, 'kernel': 'linear'}\n",
      "Accuracy: 0.419 (+/-0.038) for params: {'C': 1000, 'gamma': 0.0001, 'kernel': 'rbf'}\n",
      "Accuracy: 0.379 (+/-0.026) for params: {'C': 500, 'gamma': 0.0001, 'kernel': 'rbf'}\n",
      "Accuracy: 0.348 (+/-0.016) for params: {'C': 100, 'gamma': 0.0001, 'kernel': 'rbf'}\n",
      "Accuracy: 0.334 (+/-0.001) for params: {'C': 10, 'gamma': 0.0001, 'kernel': 'rbf'}\n"
     ]
    }
   ],
   "source": [
    "svc_params = {'C': [1, 10, 50, 100], 'kernel': ['linear']}, {'C': [10, 100, 500, 1000], 'gamma': [0.0001], 'kernel': ['rbf']}\n",
    "svc = svm.SVC()\n",
    "clf = GridSearchCV(svc, svc_params)\n",
    "clf.fit(tfidf_data, labels)\n",
    "means = clf.cv_results_['mean_test_score']\n",
    "stds = clf.cv_results_['std_test_score']\n",
    "for mean, std, params in sorted(zip(means, stds, clf.cv_results_['params']), key=lambda x: -x[0]):\n",
    "    print(\"Accuracy: %0.3f (+/-%0.03f) for params: %r\" % (mean, std * 2, params))"
   ]
  },
  {
   "cell_type": "code",
   "execution_count": 42,
   "id": "51b25e8c",
   "metadata": {},
   "outputs": [
    {
     "name": "stdout",
     "output_type": "stream",
     "text": [
      "Accuracy: 0.494 (+/-0.086) for params: {'learning_rate': 0.1, 'max_depth': 6, 'n_estimators': 140}\n",
      "Accuracy: 0.493 (+/-0.072) for params: {'learning_rate': 0.1, 'max_depth': 6, 'n_estimators': 180}\n",
      "Accuracy: 0.492 (+/-0.086) for params: {'learning_rate': 0.1, 'max_depth': 7, 'n_estimators': 180}\n",
      "Accuracy: 0.492 (+/-0.078) for params: {'learning_rate': 0.1, 'max_depth': 5, 'n_estimators': 180}\n",
      "Accuracy: 0.491 (+/-0.085) for params: {'learning_rate': 0.1, 'max_depth': 7, 'n_estimators': 100}\n",
      "Accuracy: 0.491 (+/-0.085) for params: {'learning_rate': 0.05, 'max_depth': 7, 'n_estimators': 180}\n",
      "Accuracy: 0.489 (+/-0.093) for params: {'learning_rate': 0.05, 'max_depth': 7, 'n_estimators': 140}\n",
      "Accuracy: 0.489 (+/-0.077) for params: {'learning_rate': 0.1, 'max_depth': 7, 'n_estimators': 140}\n",
      "Accuracy: 0.489 (+/-0.103) for params: {'learning_rate': 0.1, 'max_depth': 4, 'n_estimators': 140}\n",
      "Accuracy: 0.488 (+/-0.088) for params: {'learning_rate': 0.05, 'max_depth': 5, 'n_estimators': 180}\n",
      "Accuracy: 0.488 (+/-0.097) for params: {'learning_rate': 0.1, 'max_depth': 5, 'n_estimators': 100}\n",
      "Accuracy: 0.488 (+/-0.088) for params: {'learning_rate': 0.05, 'max_depth': 6, 'n_estimators': 180}\n",
      "Accuracy: 0.487 (+/-0.089) for params: {'learning_rate': 0.05, 'max_depth': 6, 'n_estimators': 140}\n",
      "Accuracy: 0.487 (+/-0.105) for params: {'learning_rate': 0.1, 'max_depth': 3, 'n_estimators': 180}\n",
      "Accuracy: 0.487 (+/-0.091) for params: {'learning_rate': 0.1, 'max_depth': 4, 'n_estimators': 180}\n",
      "Accuracy: 0.487 (+/-0.092) for params: {'learning_rate': 0.1, 'max_depth': 5, 'n_estimators': 140}\n",
      "Accuracy: 0.486 (+/-0.094) for params: {'learning_rate': 0.1, 'max_depth': 7, 'n_estimators': 60}\n",
      "Accuracy: 0.485 (+/-0.085) for params: {'learning_rate': 0.1, 'max_depth': 6, 'n_estimators': 100}\n",
      "Accuracy: 0.485 (+/-0.103) for params: {'learning_rate': 0.1, 'max_depth': 4, 'n_estimators': 100}\n",
      "Accuracy: 0.484 (+/-0.107) for params: {'learning_rate': 0.1, 'max_depth': 3, 'n_estimators': 100}\n",
      "Accuracy: 0.484 (+/-0.090) for params: {'learning_rate': 0.05, 'max_depth': 4, 'n_estimators': 180}\n",
      "Accuracy: 0.482 (+/-0.104) for params: {'learning_rate': 0.1, 'max_depth': 3, 'n_estimators': 140}\n",
      "Accuracy: 0.480 (+/-0.106) for params: {'learning_rate': 0.05, 'max_depth': 7, 'n_estimators': 100}\n",
      "Accuracy: 0.480 (+/-0.100) for params: {'learning_rate': 0.05, 'max_depth': 5, 'n_estimators': 140}\n",
      "Accuracy: 0.479 (+/-0.094) for params: {'learning_rate': 0.1, 'max_depth': 2, 'n_estimators': 180}\n",
      "Accuracy: 0.478 (+/-0.109) for params: {'learning_rate': 0.1, 'max_depth': 6, 'n_estimators': 60}\n",
      "Accuracy: 0.478 (+/-0.100) for params: {'learning_rate': 0.05, 'max_depth': 4, 'n_estimators': 140}\n",
      "Accuracy: 0.477 (+/-0.098) for params: {'learning_rate': 0.1, 'max_depth': 2, 'n_estimators': 140}\n",
      "Accuracy: 0.477 (+/-0.099) for params: {'learning_rate': 0.05, 'max_depth': 3, 'n_estimators': 180}\n",
      "Accuracy: 0.476 (+/-0.103) for params: {'learning_rate': 0.05, 'max_depth': 6, 'n_estimators': 100}\n",
      "Accuracy: 0.474 (+/-0.093) for params: {'learning_rate': 0.05, 'max_depth': 3, 'n_estimators': 140}\n",
      "Accuracy: 0.473 (+/-0.110) for params: {'learning_rate': 0.1, 'max_depth': 4, 'n_estimators': 60}\n",
      "Accuracy: 0.472 (+/-0.102) for params: {'learning_rate': 0.1, 'max_depth': 3, 'n_estimators': 60}\n",
      "Accuracy: 0.472 (+/-0.097) for params: {'learning_rate': 0.1, 'max_depth': 2, 'n_estimators': 100}\n",
      "Accuracy: 0.470 (+/-0.102) for params: {'learning_rate': 0.05, 'max_depth': 7, 'n_estimators': 60}\n",
      "Accuracy: 0.470 (+/-0.100) for params: {'learning_rate': 0.05, 'max_depth': 5, 'n_estimators': 100}\n",
      "Accuracy: 0.470 (+/-0.102) for params: {'learning_rate': 0.05, 'max_depth': 6, 'n_estimators': 60}\n",
      "Accuracy: 0.470 (+/-0.091) for params: {'learning_rate': 0.05, 'max_depth': 2, 'n_estimators': 180}\n",
      "Accuracy: 0.469 (+/-0.103) for params: {'learning_rate': 0.1, 'max_depth': 5, 'n_estimators': 60}\n",
      "Accuracy: 0.464 (+/-0.100) for params: {'learning_rate': 0.05, 'max_depth': 4, 'n_estimators': 100}\n",
      "Accuracy: 0.459 (+/-0.103) for params: {'learning_rate': 0.01, 'max_depth': 7, 'n_estimators': 180}\n",
      "Accuracy: 0.459 (+/-0.083) for params: {'learning_rate': 0.05, 'max_depth': 3, 'n_estimators': 100}\n",
      "Accuracy: 0.457 (+/-0.098) for params: {'learning_rate': 0.05, 'max_depth': 5, 'n_estimators': 60}\n",
      "Accuracy: 0.456 (+/-0.084) for params: {'learning_rate': 0.01, 'max_depth': 7, 'n_estimators': 140}\n",
      "Accuracy: 0.456 (+/-0.076) for params: {'learning_rate': 0.05, 'max_depth': 2, 'n_estimators': 140}\n",
      "Accuracy: 0.455 (+/-0.082) for params: {'learning_rate': 0.1, 'max_depth': 2, 'n_estimators': 60}\n",
      "Accuracy: 0.450 (+/-0.084) for params: {'learning_rate': 0.01, 'max_depth': 6, 'n_estimators': 180}\n",
      "Accuracy: 0.449 (+/-0.071) for params: {'learning_rate': 0.01, 'max_depth': 5, 'n_estimators': 180}\n",
      "Accuracy: 0.447 (+/-0.078) for params: {'learning_rate': 0.05, 'max_depth': 4, 'n_estimators': 60}\n",
      "Accuracy: 0.447 (+/-0.078) for params: {'learning_rate': 0.01, 'max_depth': 6, 'n_estimators': 140}\n",
      "Accuracy: 0.444 (+/-0.079) for params: {'learning_rate': 0.01, 'max_depth': 7, 'n_estimators': 100}\n",
      "Accuracy: 0.441 (+/-0.067) for params: {'learning_rate': 0.05, 'max_depth': 3, 'n_estimators': 60}\n",
      "Accuracy: 0.438 (+/-0.068) for params: {'learning_rate': 0.01, 'max_depth': 6, 'n_estimators': 100}\n",
      "Accuracy: 0.438 (+/-0.066) for params: {'learning_rate': 0.01, 'max_depth': 5, 'n_estimators': 140}\n",
      "Accuracy: 0.434 (+/-0.069) for params: {'learning_rate': 0.01, 'max_depth': 6, 'n_estimators': 60}\n",
      "Accuracy: 0.432 (+/-0.073) for params: {'learning_rate': 0.01, 'max_depth': 5, 'n_estimators': 100}\n",
      "Accuracy: 0.431 (+/-0.064) for params: {'learning_rate': 0.01, 'max_depth': 4, 'n_estimators': 180}\n",
      "Accuracy: 0.428 (+/-0.090) for params: {'learning_rate': 0.05, 'max_depth': 2, 'n_estimators': 100}\n",
      "Accuracy: 0.428 (+/-0.075) for params: {'learning_rate': 0.01, 'max_depth': 7, 'n_estimators': 60}\n",
      "Accuracy: 0.428 (+/-0.069) for params: {'learning_rate': 0.01, 'max_depth': 5, 'n_estimators': 60}\n",
      "Accuracy: 0.427 (+/-0.067) for params: {'learning_rate': 0.01, 'max_depth': 4, 'n_estimators': 100}\n",
      "Accuracy: 0.425 (+/-0.065) for params: {'learning_rate': 0.01, 'max_depth': 4, 'n_estimators': 140}\n",
      "Accuracy: 0.419 (+/-0.054) for params: {'learning_rate': 0.01, 'max_depth': 3, 'n_estimators': 180}\n",
      "Accuracy: 0.418 (+/-0.067) for params: {'learning_rate': 0.01, 'max_depth': 3, 'n_estimators': 140}\n",
      "Accuracy: 0.415 (+/-0.064) for params: {'learning_rate': 0.01, 'max_depth': 4, 'n_estimators': 60}\n",
      "Accuracy: 0.413 (+/-0.071) for params: {'learning_rate': 0.01, 'max_depth': 3, 'n_estimators': 100}\n",
      "Accuracy: 0.411 (+/-0.074) for params: {'learning_rate': 0.01, 'max_depth': 3, 'n_estimators': 60}\n",
      "Accuracy: 0.404 (+/-0.074) for params: {'learning_rate': 0.01, 'max_depth': 2, 'n_estimators': 180}\n",
      "Accuracy: 0.401 (+/-0.066) for params: {'learning_rate': 0.01, 'max_depth': 2, 'n_estimators': 140}\n",
      "Accuracy: 0.401 (+/-0.089) for params: {'learning_rate': 0.05, 'max_depth': 2, 'n_estimators': 60}\n",
      "Accuracy: 0.382 (+/-0.085) for params: {'learning_rate': 0.01, 'max_depth': 2, 'n_estimators': 100}\n",
      "Accuracy: 0.375 (+/-0.055) for params: {'learning_rate': 0.01, 'max_depth': 2, 'n_estimators': 60}\n"
     ]
    }
   ],
   "source": [
    "xgb_params = {\n",
    "    'max_depth': range (2, 8, 1),\n",
    "    'n_estimators': range(60, 220, 40),\n",
    "    'learning_rate': [0.1, 0.01, 0.05]\n",
    "}\n",
    "xgb = XGBClassifier(use_label_encoder=False,eval_metric='logloss')\n",
    "clf = GridSearchCV(xgb, xgb_params)\n",
    "clf.fit(tfidf_data, labels)\n",
    "means = clf.cv_results_['mean_test_score']\n",
    "stds = clf.cv_results_['std_test_score']\n",
    "for mean, std, params in sorted(zip(means, stds, clf.cv_results_['params']), key=lambda x: -x[0]):\n",
    "    print(\"Accuracy: %0.3f (+/-%0.03f) for params: %r\" % (mean, std * 2, params))"
   ]
  },
  {
   "cell_type": "code",
   "execution_count": 43,
   "id": "70cef17c",
   "metadata": {},
   "outputs": [
    {
     "data": {
      "text/plain": [
       "defaultdict(float,\n",
       "            {'XGBClassifier': 0.5594594594594594,\n",
       "             'SVC': 0.5882882882882882,\n",
       "             'MultinomialNB': 0.5551801801801803})"
      ]
     },
     "execution_count": 43,
     "metadata": {},
     "output_type": "execute_result"
    }
   ],
   "source": [
    "classifiers = [XGBClassifier(use_label_encoder=False,eval_metric='logloss', learning_rate = 0.1, n_estimators = 140, max_depth = 6), \n",
    "               svm.SVC(kernel='linear',C=1), MultinomialNB(alpha=0.1)]\n",
    "n_trials = 20\n",
    "results = collections.defaultdict(float)\n",
    "for i in range(n_trials):\n",
    "    train(classifiers)\n",
    "for key in results:\n",
    "    results[key] = results[key] / n_trials\n",
    "results"
   ]
  },
  {
   "cell_type": "markdown",
   "id": "c966b2f1",
   "metadata": {},
   "source": [
    "Looks like SVC had a lot of improvements from parameter tuning. "
   ]
  }
 ],
 "metadata": {
  "kernelspec": {
   "display_name": "Python 3 (ipykernel)",
   "language": "python",
   "name": "python3"
  },
  "language_info": {
   "codemirror_mode": {
    "name": "ipython",
    "version": 3
   },
   "file_extension": ".py",
   "mimetype": "text/x-python",
   "name": "python",
   "nbconvert_exporter": "python",
   "pygments_lexer": "ipython3",
   "version": "3.9.6"
  }
 },
 "nbformat": 4,
 "nbformat_minor": 5
}
